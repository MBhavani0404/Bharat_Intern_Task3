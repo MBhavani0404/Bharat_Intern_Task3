{
 "cells": [
  {
   "cell_type": "markdown",
   "id": "9e7243ed",
   "metadata": {},
   "source": [
    "# Bharat Intern\n",
    "\n",
    "**Name:Mekkanti Bhavani**\n",
    "<br>\n",
    "**Task3:Translator App**\n",
    "<br>\n"
   ]
  },
  {
   "cell_type": "markdown",
   "id": "37d86bdb",
   "metadata": {},
   "source": [
    "**Step 1: Install the necessary library**"
   ]
  },
  {
   "cell_type": "code",
   "execution_count": 1,
   "id": "3a6c031b",
   "metadata": {
    "scrolled": false
   },
   "outputs": [
    {
     "name": "stdout",
     "output_type": "stream",
     "text": [
      "Requirement already satisfied: googletrans==4.0.0-rc1 in c:\\users\\mekka\\anaconda3\\lib\\site-packages (4.0.0rc1)\n",
      "Requirement already satisfied: httpx==0.13.3 in c:\\users\\mekka\\anaconda3\\lib\\site-packages (from googletrans==4.0.0-rc1) (0.13.3)\n",
      "Requirement already satisfied: certifi in c:\\users\\mekka\\anaconda3\\lib\\site-packages (from httpx==0.13.3->googletrans==4.0.0-rc1) (2021.10.8)\n",
      "Requirement already satisfied: hstspreload in c:\\users\\mekka\\anaconda3\\lib\\site-packages (from httpx==0.13.3->googletrans==4.0.0-rc1) (2023.1.1)\n",
      "Requirement already satisfied: sniffio in c:\\users\\mekka\\anaconda3\\lib\\site-packages (from httpx==0.13.3->googletrans==4.0.0-rc1) (1.2.0)\n",
      "Requirement already satisfied: chardet==3.* in c:\\users\\mekka\\anaconda3\\lib\\site-packages (from httpx==0.13.3->googletrans==4.0.0-rc1) (3.0.4)\n",
      "Requirement already satisfied: idna==2.* in c:\\users\\mekka\\anaconda3\\lib\\site-packages (from httpx==0.13.3->googletrans==4.0.0-rc1) (2.10)\n",
      "Requirement already satisfied: rfc3986<2,>=1.3 in c:\\users\\mekka\\anaconda3\\lib\\site-packages (from httpx==0.13.3->googletrans==4.0.0-rc1) (1.5.0)\n",
      "Requirement already satisfied: httpcore==0.9.* in c:\\users\\mekka\\anaconda3\\lib\\site-packages (from httpx==0.13.3->googletrans==4.0.0-rc1) (0.9.1)\n",
      "Requirement already satisfied: h11<0.10,>=0.8 in c:\\users\\mekka\\anaconda3\\lib\\site-packages (from httpcore==0.9.*->httpx==0.13.3->googletrans==4.0.0-rc1) (0.9.0)\n",
      "Requirement already satisfied: h2==3.* in c:\\users\\mekka\\anaconda3\\lib\\site-packages (from httpcore==0.9.*->httpx==0.13.3->googletrans==4.0.0-rc1) (3.2.0)\n",
      "Requirement already satisfied: hyperframe<6,>=5.2.0 in c:\\users\\mekka\\anaconda3\\lib\\site-packages (from h2==3.*->httpcore==0.9.*->httpx==0.13.3->googletrans==4.0.0-rc1) (5.2.0)\n",
      "Requirement already satisfied: hpack<4,>=3.0 in c:\\users\\mekka\\anaconda3\\lib\\site-packages (from h2==3.*->httpcore==0.9.*->httpx==0.13.3->googletrans==4.0.0-rc1) (3.0.0)\n"
     ]
    }
   ],
   "source": [
    "!pip install googletrans==4.0.0-rc1"
   ]
  },
  {
   "cell_type": "markdown",
   "id": "2abeeb58",
   "metadata": {},
   "source": [
    "**Step 2: Import the required libraries**"
   ]
  },
  {
   "cell_type": "code",
   "execution_count": 2,
   "id": "744eb6c7",
   "metadata": {},
   "outputs": [],
   "source": [
    "import tkinter as tk\n",
    "from googletrans import Translator"
   ]
  },
  {
   "cell_type": "markdown",
   "id": "c1a0c912",
   "metadata": {},
   "source": [
    "**Step 3: Create the Translator Object**"
   ]
  },
  {
   "cell_type": "code",
   "execution_count": 3,
   "id": "cafbe3aa",
   "metadata": {},
   "outputs": [],
   "source": [
    "translator = Translator()"
   ]
  },
  {
   "cell_type": "markdown",
   "id": "878a8f22",
   "metadata": {},
   "source": [
    "**Step 4: Define the Translation Function**"
   ]
  },
  {
   "cell_type": "code",
   "execution_count": 4,
   "id": "75db31da",
   "metadata": {},
   "outputs": [],
   "source": [
    "def translate_text():\n",
    "    source_lang = source_lang_var.get()\n",
    "    target_lang = target_lang_var.get()\n",
    "    text = input_text.get(1.0, \"end-1c\")\n",
    "\n",
    "    translated_text = translator.translate(text, src=source_lang, dest=target_lang).text\n",
    "    output_text.delete(1.0, \"end\")\n",
    "    output_text.insert(\"end\", translated_text)"
   ]
  },
  {
   "cell_type": "markdown",
   "id": "406ec8cf",
   "metadata": {},
   "source": [
    "**Step 5: Create the GUI**"
   ]
  },
  {
   "cell_type": "code",
   "execution_count": 6,
   "id": "a768149e",
   "metadata": {},
   "outputs": [],
   "source": [
    "# Create the main window\n",
    "root = tk.Tk()\n",
    "root.title(\"Translator App\")\n",
    "\n",
    "# Source language label and dropdown\n",
    "source_lang_var = tk.StringVar()\n",
    "source_lang_var.set(\"en\")\n",
    "source_lang_label = tk.Label(root, text=\"Source Language:\")\n",
    "source_lang_label.grid(row=0, column=0, padx=5, pady=5)\n",
    "source_lang_dropdown = tk.OptionMenu(root, source_lang_var, \"en\", \"fr\", \"es\", \"de\")  # Add more language options\n",
    "source_lang_dropdown.grid(row=0, column=1, padx=5, pady=5)\n",
    "\n",
    "# Target language label and dropdown\n",
    "target_lang_var = tk.StringVar()\n",
    "target_lang_var.set(\"fr\")\n",
    "target_lang_label = tk.Label(root, text=\"Target Language:\")\n",
    "target_lang_label.grid(row=0, column=2, padx=5, pady=5)\n",
    "target_lang_dropdown = tk.OptionMenu(root, target_lang_var, \"en\", \"fr\", \"es\", \"de\")  # Add more language options\n",
    "target_lang_dropdown.grid(row=0, column=3, padx=5, pady=5)\n",
    "\n",
    "# Input text area\n",
    "input_text = tk.Text(root, wrap=\"word\", width=40, height=10)\n",
    "input_text.grid(row=1, column=0, columnspan=4, padx=5, pady=5)\n",
    "\n",
    "# Translate button\n",
    "translate_button = tk.Button(root, text=\"Translate\", command=translate_text)\n",
    "translate_button.grid(row=2, column=0, columnspan=4, padx=5, pady=5)\n",
    "\n",
    "# Output text area\n",
    "output_text = tk.Text(root, wrap=\"word\", width=40, height=10)\n",
    "output_text.grid(row=3, column=0, columnspan=4, padx=5, pady=5)\n",
    "\n",
    "# Start the main loop\n",
    "root.mainloop()"
   ]
  },
  {
   "cell_type": "code",
   "execution_count": null,
   "id": "14839461",
   "metadata": {},
   "outputs": [],
   "source": []
  }
 ],
 "metadata": {
  "kernelspec": {
   "display_name": "Python 3 (ipykernel)",
   "language": "python",
   "name": "python3"
  },
  "language_info": {
   "codemirror_mode": {
    "name": "ipython",
    "version": 3
   },
   "file_extension": ".py",
   "mimetype": "text/x-python",
   "name": "python",
   "nbconvert_exporter": "python",
   "pygments_lexer": "ipython3",
   "version": "3.9.12"
  }
 },
 "nbformat": 4,
 "nbformat_minor": 5
}
